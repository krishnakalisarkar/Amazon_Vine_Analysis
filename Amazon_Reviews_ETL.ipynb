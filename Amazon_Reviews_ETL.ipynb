{
  "nbformat": 4,
  "nbformat_minor": 0,
  "metadata": {
    "colab": {
      "name": "Amazon_Reviews_ETL.ipynb",
      "provenance": [],
      "collapsed_sections": [],
      "include_colab_link": true
    },
    "kernelspec": {
      "name": "python3",
      "display_name": "Python 3"
    },
    "nteract": {
      "version": "0.12.3"
    },
    "language_info": {
      "name": "python"
    }
  },
  "cells": [
    {
      "cell_type": "markdown",
      "metadata": {
        "id": "view-in-github",
        "colab_type": "text"
      },
      "source": [
        "<a href=\"https://colab.research.google.com/github/krishnakalisarkar/Amazon_Vine_Analysis/blob/main/Amazon_Reviews_ETL.ipynb\" target=\"_parent\"><img src=\"https://colab.research.google.com/assets/colab-badge.svg\" alt=\"Open In Colab\"/></a>"
      ]
    },
    {
      "cell_type": "markdown",
      "metadata": {
        "id": "lHYxD6mjVl5X"
      },
      "source": [
        "# Deliverable 1: ETL on Amazon Product Reviews."
      ]
    },
    {
      "cell_type": "code",
      "metadata": {
        "id": "V58rxea0HqSa",
        "colab": {
          "base_uri": "https://localhost:8080/"
        },
        "outputId": "eb816aa5-5b70-450e-c661-acba27be65c4"
      },
      "source": [
        "import os\n",
        "# Find the latest version of spark 3.0 from http://www.apache.org/dist/spark/ and enter as the spark version\n",
        "# For example:\n",
        "# spark_version = 'spark-3.0.3'\n",
        "spark_version = 'spark-3.1.2'\n",
        "os.environ['SPARK_VERSION']=spark_version\n",
        "\n",
        "# Install Spark and Java\n",
        "!apt-get update\n",
        "!apt-get install openjdk-11-jdk-headless -qq > /dev/null\n",
        "!wget -q http://www.apache.org/dist/spark/$SPARK_VERSION/$SPARK_VERSION-bin-hadoop2.7.tgz\n",
        "!tar xf $SPARK_VERSION-bin-hadoop2.7.tgz\n",
        "!pip install -q findspark\n",
        "\n",
        "# Set Environment Variables\n",
        "import os\n",
        "os.environ[\"JAVA_HOME\"] = \"/usr/lib/jvm/java-11-openjdk-amd64\"\n",
        "os.environ[\"SPARK_HOME\"] = f\"/content/{spark_version}-bin-hadoop2.7\"\n",
        "\n",
        "# Start a SparkSession\n",
        "import findspark\n",
        "findspark.init()"
      ],
      "execution_count": 1,
      "outputs": [
        {
          "output_type": "stream",
          "text": [
            "\r0% [Working]\r            \rGet:1 http://security.ubuntu.com/ubuntu bionic-security InRelease [88.7 kB]\n",
            "\r0% [Connecting to archive.ubuntu.com (91.189.88.142)] [1 InRelease 14.2 kB/88.7\r0% [Waiting for headers] [Waiting for headers] [Waiting for headers] [Waiting f\r                                                                               \rGet:2 https://cloud.r-project.org/bin/linux/ubuntu bionic-cran40/ InRelease [3,626 B]\n",
            "\r                                                                               \r0% [Waiting for headers] [Waiting for headers] [Waiting for headers]\r0% [1 InRelease gpgv 88.7 kB] [Waiting for headers] [Waiting for headers] [Wait\r                                                                               \rIgn:3 https://developer.download.nvidia.com/compute/cuda/repos/ubuntu1804/x86_64  InRelease\n",
            "\r                                                                               \r0% [1 InRelease gpgv 88.7 kB] [Waiting for headers] [Waiting for headers]\r                                                                         \rHit:4 http://archive.ubuntu.com/ubuntu bionic InRelease\n",
            "Get:5 http://ppa.launchpad.net/c2d4u.team/c2d4u4.0+/ubuntu bionic InRelease [15.9 kB]\n",
            "Ign:6 https://developer.download.nvidia.com/compute/machine-learning/repos/ubuntu1804/x86_64  InRelease\n",
            "Get:7 https://developer.download.nvidia.com/compute/cuda/repos/ubuntu1804/x86_64  Release [697 B]\n",
            "Hit:8 https://developer.download.nvidia.com/compute/machine-learning/repos/ubuntu1804/x86_64  Release\n",
            "Get:9 https://developer.download.nvidia.com/compute/cuda/repos/ubuntu1804/x86_64  Release.gpg [836 B]\n",
            "Get:10 http://archive.ubuntu.com/ubuntu bionic-updates InRelease [88.7 kB]\n",
            "Get:11 http://security.ubuntu.com/ubuntu bionic-security/restricted amd64 Packages [510 kB]\n",
            "Hit:12 http://ppa.launchpad.net/cran/libgit2/ubuntu bionic InRelease\n",
            "Get:13 http://security.ubuntu.com/ubuntu bionic-security/universe amd64 Packages [1,420 kB]\n",
            "Get:14 http://archive.ubuntu.com/ubuntu bionic-backports InRelease [74.6 kB]\n",
            "Get:15 http://security.ubuntu.com/ubuntu bionic-security/main amd64 Packages [2,263 kB]\n",
            "Hit:16 http://ppa.launchpad.net/deadsnakes/ppa/ubuntu bionic InRelease\n",
            "Get:17 http://security.ubuntu.com/ubuntu bionic-security/multiverse amd64 Packages [26.7 kB]\n",
            "Get:18 http://ppa.launchpad.net/graphics-drivers/ppa/ubuntu bionic InRelease [21.3 kB]\n",
            "Get:19 https://cloud.r-project.org/bin/linux/ubuntu bionic-cran40/ Packages [62.9 kB]\n",
            "Ign:21 https://developer.download.nvidia.com/compute/cuda/repos/ubuntu1804/x86_64  Packages\n",
            "Get:21 https://developer.download.nvidia.com/compute/cuda/repos/ubuntu1804/x86_64  Packages [695 kB]\n",
            "Get:22 http://ppa.launchpad.net/c2d4u.team/c2d4u4.0+/ubuntu bionic/main Sources [1,786 kB]\n",
            "Get:23 http://archive.ubuntu.com/ubuntu bionic-updates/restricted amd64 Packages [544 kB]\n",
            "Get:24 http://ppa.launchpad.net/c2d4u.team/c2d4u4.0+/ubuntu bionic/main amd64 Packages [914 kB]\n",
            "Get:25 http://archive.ubuntu.com/ubuntu bionic-updates/main amd64 Packages [2,698 kB]\n",
            "Get:26 http://archive.ubuntu.com/ubuntu bionic-updates/multiverse amd64 Packages [39.4 kB]\n",
            "Get:27 http://archive.ubuntu.com/ubuntu bionic-updates/universe amd64 Packages [2,195 kB]\n",
            "Get:28 http://ppa.launchpad.net/graphics-drivers/ppa/ubuntu bionic/main amd64 Packages [44.1 kB]\n",
            "Fetched 13.5 MB in 5s (2,633 kB/s)\n",
            "Reading package lists... Done\n"
          ],
          "name": "stdout"
        }
      ]
    },
    {
      "cell_type": "code",
      "metadata": {
        "id": "_xKwTpATHqSe",
        "colab": {
          "base_uri": "https://localhost:8080/"
        },
        "outputId": "a5bf2188-d88b-4b9e-ad30-474f2fb8ca5b"
      },
      "source": [
        "# Download the Postgres driver that will allow Spark to interact with Postgres.\n",
        "!wget https://jdbc.postgresql.org/download/postgresql-42.2.16.jar"
      ],
      "execution_count": 2,
      "outputs": [
        {
          "output_type": "stream",
          "text": [
            "--2021-08-05 02:31:05--  https://jdbc.postgresql.org/download/postgresql-42.2.16.jar\n",
            "Resolving jdbc.postgresql.org (jdbc.postgresql.org)... 72.32.157.228, 2001:4800:3e1:1::228\n",
            "Connecting to jdbc.postgresql.org (jdbc.postgresql.org)|72.32.157.228|:443... connected.\n",
            "HTTP request sent, awaiting response... 200 OK\n",
            "Length: 1002883 (979K) [application/java-archive]\n",
            "Saving to: ‘postgresql-42.2.16.jar’\n",
            "\n",
            "postgresql-42.2.16. 100%[===================>] 979.38K  --.-KB/s    in 0.1s    \n",
            "\n",
            "2021-08-05 02:31:06 (6.61 MB/s) - ‘postgresql-42.2.16.jar’ saved [1002883/1002883]\n",
            "\n"
          ],
          "name": "stdout"
        }
      ]
    },
    {
      "cell_type": "code",
      "metadata": {
        "id": "MMqDAjVS0KN9"
      },
      "source": [
        "from pyspark.sql import SparkSession\n",
        "spark = SparkSession.builder.appName(\"M16-Amazon-Challenge\").config(\"spark.driver.extraClassPath\",\"/content/postgresql-42.2.16.jar\").getOrCreate()"
      ],
      "execution_count": 3,
      "outputs": []
    },
    {
      "cell_type": "markdown",
      "metadata": {
        "id": "cyBsySGuY-9V"
      },
      "source": [
        "### Load Amazon Data into Spark DataFrame"
      ]
    },
    {
      "cell_type": "code",
      "metadata": {
        "id": "CtCmBhQJY-9Z",
        "colab": {
          "base_uri": "https://localhost:8080/"
        },
        "outputId": "015b0b8b-2ace-4bcd-c46e-81da59569c65"
      },
      "source": [
        "# Read in data from S3 Buckets\n",
        "from pyspark import SparkFiles\n",
        "url = \"https://s3.amazonaws.com/amazon-reviews-pds/tsv/amazon_reviews_us_Books_v1_01.tsv.gz\"\n",
        "spark.sparkContext.addFile(url)\n",
        "df = spark.read.option(\"encoding\", \"UTF-8\").csv(SparkFiles.get(\"\"), sep=\"\\t\", header=True, inferSchema=True)\n",
        "# Show DataFrame\n",
        "df.show()"
      ],
      "execution_count": 4,
      "outputs": [
        {
          "output_type": "stream",
          "text": [
            "+-----------+-----------+--------------+----------+--------------+--------------------+----------------+-----------+-------------+-----------+----+-----------------+--------------------+--------------------+-----------+\n",
            "|marketplace|customer_id|     review_id|product_id|product_parent|       product_title|product_category|star_rating|helpful_votes|total_votes|vine|verified_purchase|     review_headline|         review_body|review_date|\n",
            "+-----------+-----------+--------------+----------+--------------+--------------------+----------------+-----------+-------------+-----------+----+-----------------+--------------------+--------------------+-----------+\n",
            "|         US|   22480053|R28HBXXO1UEVJT|0843952016|      34858117|          The Rising|           Books|          5|            0|          0|   N|                N|Great Twist on Zo...|I've known about ...| 2012-05-03|\n",
            "|         US|   44244451| RZKRFS2UUMFFU|031088926X|     676347131|Sticky Faith Teen...|           Books|          5|           15|         15|   N|                Y|Helpful and Pract...|The student curri...| 2012-05-03|\n",
            "|         US|   20357422|R2WAU9MD9K6JQA|0615268102|     763837025|Black Passenger Y...|           Books|          3|            6|          8|   N|                N|                Paul|I found \\\\\"Black ...| 2012-05-03|\n",
            "|         US|   13235208|R36SCTKYTVPZPC|1900869225|     785539232|Direction and Des...|           Books|          5|           10|         11|   N|                Y|Direction and Des...|Sasportas is a br...| 2012-05-03|\n",
            "|         US|   26301786|R10BM6JUOJX27Q|1565129938|      64646125| Until the Next Time|           Books|          3|            0|          0|   Y|                N|       This was Okay|I wanted to love ...| 2012-05-03|\n",
            "|         US|   27780192| RCLZ5OKZNUSY4|146854456X|     270349766| Unfinished Business|           Books|          5|            0|          0|   N|                Y|   Excellent read!!!|What an exciting ...| 2012-05-03|\n",
            "|         US|   13041546|R1S65DJYEI89G4|1118094514|     752141158|The Republican Br...|           Books|          4|            8|         17|   N|                N|A must read for s...|This book is exce...| 2012-05-03|\n",
            "|         US|   51692331|R3KQYBQOLYDETV|0563521147|     729491316|Good Food: 101 Ca...|           Books|          4|            2|          2|   N|                N|   Chocoholic heaven|If you are on a d...| 2012-05-03|\n",
            "|         US|   23108524|R3QV8K7CSU8K2W|0669444421|     261004015|Patterns and Quil...|           Books|          5|            0|          0|   N|                N|Quilt Art Project...|Written by quilt ...| 2012-05-03|\n",
            "|         US|   51692331|R3W5A1WUGO5VQ0|1897784457|     497876045|Practical Food Sm...|           Books|          4|            0|          1|   N|                N|         A good read|Food smoking has ...| 2012-05-03|\n",
            "|         US|   49438248|R20AQCY3FMBVN5|0316738158|     691490916|The Big Love: A N...|           Books|          5|            0|          0|   N|                N|One of my favorites!|This is one of my...| 2012-05-03|\n",
            "|         US|   11818020| R7KY8VL871MVL|0738730440|     544176812|Around the Tarot ...|           Books|          5|           13|         15|   N|                Y|A must for tarot ...|I have been waiti...| 2012-05-03|\n",
            "|         US|   51692331| RHF5E4UOL5LQ3|1902842286|     698916699|Favourite Apple R...|           Books|          5|            2|          2|   N|                N|  A good little book|Jane Austen said ...| 2012-05-03|\n",
            "|         US|   29446920|R1LMUDN5M9G6ZZ|1465399577|     922463098|       Kevin and Tak|           Books|          5|            0|          0|   N|                N|            so great|I felt this was a...| 2012-05-03|\n",
            "|         US|   33284115| RNGA47KD4CEB8|0061934704|     740765152|Opium Nation: Chi...|           Books|          5|            0|          0|   N|                N|Knowing Afghanist...|Fariba Nawa, desc...| 2012-05-03|\n",
            "|         US|   44728718|R33MYHP5RY1139|1432729039|     116349266|        True to Life|           Books|          5|            3|          3|   N|                N|Modern poetry tha...|For many, reading...| 2012-05-03|\n",
            "|         US|   52534548|R18VIM840CEFRP|1621360075|     143884185|The Real Kosher J...|           Books|          1|           16|        105|   N|                N|                 SLH|I'm sorry, but ca...| 2012-05-03|\n",
            "|         US|   37836302| RQOZBXX7M0U6H|097723732X|     106641033|Idioms Go To The ...|           Books|          5|            0|          0|   N|                N|         Great book!|The (slightly) ea...| 2012-05-03|\n",
            "|         US|   38588903|R3SH84TAORQP2T|0983945209|     377432437|Elsie -  Adventur...|           Books|          5|            3|          3|   N|                N|      Terrific Book!|By Den Adler<br /...| 2012-05-03|\n",
            "|         US|   49148452| RL1OHWOHPM7RO|1419701630|     307676830|Chuck Close: Face...|           Books|          5|            8|          9|   N|                N|  Close and personal|The autobiography...| 2012-05-03|\n",
            "+-----------+-----------+--------------+----------+--------------+--------------------+----------------+-----------+-------------+-----------+----+-----------------+--------------------+--------------------+-----------+\n",
            "only showing top 20 rows\n",
            "\n"
          ],
          "name": "stdout"
        }
      ]
    },
    {
      "cell_type": "markdown",
      "metadata": {
        "id": "2yUSe55VY-9t"
      },
      "source": [
        "### Create DataFrames to match tables"
      ]
    },
    {
      "cell_type": "code",
      "metadata": {
        "id": "C8REmY1aY-9u"
      },
      "source": [
        "from pyspark.sql.functions import to_date\n",
        "# Read in the Review dataset as a DataFrame\n"
      ],
      "execution_count": 5,
      "outputs": []
    },
    {
      "cell_type": "code",
      "metadata": {
        "id": "B0TESUDRY-90",
        "colab": {
          "base_uri": "https://localhost:8080/"
        },
        "outputId": "f4eb9f19-47da-4fd5-8276-9edc5abd43cf"
      },
      "source": [
        "# Create the customers_table DataFrame\n",
        "customers_df = df.groupby(\"customer_id\").agg({\"customer_id\":\"count\"}).withColumnRenamed(\"count(customer_id)\", \"customer_count\")\n",
        "customers_df.show()"
      ],
      "execution_count": 6,
      "outputs": [
        {
          "output_type": "stream",
          "text": [
            "+-----------+--------------+\n",
            "|customer_id|customer_count|\n",
            "+-----------+--------------+\n",
            "|   47098686|             1|\n",
            "|    9973109|             1|\n",
            "|   52477231|            24|\n",
            "|   27568383|             1|\n",
            "|   15519001|             2|\n",
            "|   52130093|             2|\n",
            "|   48794123|           102|\n",
            "|   12453285|             1|\n",
            "|   22824019|             1|\n",
            "|   21087503|             9|\n",
            "|   52553295|             4|\n",
            "|   44143172|             1|\n",
            "|   47844321|             3|\n",
            "|   40575930|             1|\n",
            "|   12657201|             1|\n",
            "|   38674185|             1|\n",
            "|   40325486|           166|\n",
            "|   42645542|             2|\n",
            "|   18768108|             5|\n",
            "|   10546543|           361|\n",
            "+-----------+--------------+\n",
            "only showing top 20 rows\n",
            "\n"
          ],
          "name": "stdout"
        }
      ]
    },
    {
      "cell_type": "code",
      "metadata": {
        "id": "4FwXA6UvY-96",
        "colab": {
          "base_uri": "https://localhost:8080/"
        },
        "outputId": "00e316e9-2feb-4481-f230-b7da41da306a"
      },
      "source": [
        "# Create the products_table DataFrame and drop duplicates. \n",
        "products_df = df.select([\"product_id\",\"product_title\"]).dropDuplicates()\n",
        "products_df.show()"
      ],
      "execution_count": 7,
      "outputs": [
        {
          "output_type": "stream",
          "text": [
            "+----------+--------------------+\n",
            "|product_id|       product_title|\n",
            "+----------+--------------------+\n",
            "|1419701630|Chuck Close: Face...|\n",
            "|0451216954|Dark Lover (Black...|\n",
            "|0552142395|My Feudal Lord: A...|\n",
            "|1931514941|   Love Hina, Vol. 1|\n",
            "|0615462219|The Great Pain De...|\n",
            "|0805087605|What's Inside You...|\n",
            "|1439197334|Far from Here: A ...|\n",
            "|1413748260|       Plasma Dreams|\n",
            "|1613469845|           Bolt Clan|\n",
            "|B005IUSVS0|       If I Were You|\n",
            "|0486451550|Architectura Nava...|\n",
            "|0312426267|Golden Boy: Memor...|\n",
            "|0425247414|Murder on Fifth A...|\n",
            "|0375722203|Random House Webs...|\n",
            "|1615390588|Colodin Project, ...|\n",
            "|047023847X|HTML, XHTML and C...|\n",
            "|1892785390|Continuing Care S...|\n",
            "|1467996149|Far Away in the S...|\n",
            "|0307886948|Jeannie Out of th...|\n",
            "|159038668X|The Kingdom and t...|\n",
            "+----------+--------------------+\n",
            "only showing top 20 rows\n",
            "\n"
          ],
          "name": "stdout"
        }
      ]
    },
    {
      "cell_type": "code",
      "metadata": {
        "id": "MkqyCuNQY-9-",
        "colab": {
          "base_uri": "https://localhost:8080/"
        },
        "outputId": "2f6185d6-2ade-48c1-cb45-974a0d647f55"
      },
      "source": [
        "# Create the review_id_table DataFrame. \n",
        "# Convert the 'review_date' column to a date datatype with to_date(\"review_date\", 'yyyy-MM-dd').alias(\"review_date\")\n",
        "review_id_df = df.select([\"review_id\",\"customer_id\",\"product_id\",\"product_parent\", to_date(\"review_date\", 'yyyy-MM-dd').alias(\"review_date\")])\n",
        "review_id_df.show()"
      ],
      "execution_count": 8,
      "outputs": [
        {
          "output_type": "stream",
          "text": [
            "+--------------+-----------+----------+--------------+-----------+\n",
            "|     review_id|customer_id|product_id|product_parent|review_date|\n",
            "+--------------+-----------+----------+--------------+-----------+\n",
            "|R28HBXXO1UEVJT|   22480053|0843952016|      34858117| 2012-05-03|\n",
            "| RZKRFS2UUMFFU|   44244451|031088926X|     676347131| 2012-05-03|\n",
            "|R2WAU9MD9K6JQA|   20357422|0615268102|     763837025| 2012-05-03|\n",
            "|R36SCTKYTVPZPC|   13235208|1900869225|     785539232| 2012-05-03|\n",
            "|R10BM6JUOJX27Q|   26301786|1565129938|      64646125| 2012-05-03|\n",
            "| RCLZ5OKZNUSY4|   27780192|146854456X|     270349766| 2012-05-03|\n",
            "|R1S65DJYEI89G4|   13041546|1118094514|     752141158| 2012-05-03|\n",
            "|R3KQYBQOLYDETV|   51692331|0563521147|     729491316| 2012-05-03|\n",
            "|R3QV8K7CSU8K2W|   23108524|0669444421|     261004015| 2012-05-03|\n",
            "|R3W5A1WUGO5VQ0|   51692331|1897784457|     497876045| 2012-05-03|\n",
            "|R20AQCY3FMBVN5|   49438248|0316738158|     691490916| 2012-05-03|\n",
            "| R7KY8VL871MVL|   11818020|0738730440|     544176812| 2012-05-03|\n",
            "| RHF5E4UOL5LQ3|   51692331|1902842286|     698916699| 2012-05-03|\n",
            "|R1LMUDN5M9G6ZZ|   29446920|1465399577|     922463098| 2012-05-03|\n",
            "| RNGA47KD4CEB8|   33284115|0061934704|     740765152| 2012-05-03|\n",
            "|R33MYHP5RY1139|   44728718|1432729039|     116349266| 2012-05-03|\n",
            "|R18VIM840CEFRP|   52534548|1621360075|     143884185| 2012-05-03|\n",
            "| RQOZBXX7M0U6H|   37836302|097723732X|     106641033| 2012-05-03|\n",
            "|R3SH84TAORQP2T|   38588903|0983945209|     377432437| 2012-05-03|\n",
            "| RL1OHWOHPM7RO|   49148452|1419701630|     307676830| 2012-05-03|\n",
            "+--------------+-----------+----------+--------------+-----------+\n",
            "only showing top 20 rows\n",
            "\n"
          ],
          "name": "stdout"
        }
      ]
    },
    {
      "cell_type": "code",
      "metadata": {
        "id": "lzMmkdKmY--D",
        "colab": {
          "base_uri": "https://localhost:8080/"
        },
        "outputId": "ace925a6-a44c-41d8-f861-0bf027955c1b"
      },
      "source": [
        "# Create the vine_table. DataFrame\n",
        "vine_df = df.select([\"review_id\",\"star_rating\",\"helpful_votes\",\"total_votes\",\"vine\",\"verified_purchase\"])\n",
        "vine_df.show()"
      ],
      "execution_count": 9,
      "outputs": [
        {
          "output_type": "stream",
          "text": [
            "+--------------+-----------+-------------+-----------+----+-----------------+\n",
            "|     review_id|star_rating|helpful_votes|total_votes|vine|verified_purchase|\n",
            "+--------------+-----------+-------------+-----------+----+-----------------+\n",
            "|R28HBXXO1UEVJT|          5|            0|          0|   N|                N|\n",
            "| RZKRFS2UUMFFU|          5|           15|         15|   N|                Y|\n",
            "|R2WAU9MD9K6JQA|          3|            6|          8|   N|                N|\n",
            "|R36SCTKYTVPZPC|          5|           10|         11|   N|                Y|\n",
            "|R10BM6JUOJX27Q|          3|            0|          0|   Y|                N|\n",
            "| RCLZ5OKZNUSY4|          5|            0|          0|   N|                Y|\n",
            "|R1S65DJYEI89G4|          4|            8|         17|   N|                N|\n",
            "|R3KQYBQOLYDETV|          4|            2|          2|   N|                N|\n",
            "|R3QV8K7CSU8K2W|          5|            0|          0|   N|                N|\n",
            "|R3W5A1WUGO5VQ0|          4|            0|          1|   N|                N|\n",
            "|R20AQCY3FMBVN5|          5|            0|          0|   N|                N|\n",
            "| R7KY8VL871MVL|          5|           13|         15|   N|                Y|\n",
            "| RHF5E4UOL5LQ3|          5|            2|          2|   N|                N|\n",
            "|R1LMUDN5M9G6ZZ|          5|            0|          0|   N|                N|\n",
            "| RNGA47KD4CEB8|          5|            0|          0|   N|                N|\n",
            "|R33MYHP5RY1139|          5|            3|          3|   N|                N|\n",
            "|R18VIM840CEFRP|          1|           16|        105|   N|                N|\n",
            "| RQOZBXX7M0U6H|          5|            0|          0|   N|                N|\n",
            "|R3SH84TAORQP2T|          5|            3|          3|   N|                N|\n",
            "| RL1OHWOHPM7RO|          5|            8|          9|   N|                N|\n",
            "+--------------+-----------+-------------+-----------+----+-----------------+\n",
            "only showing top 20 rows\n",
            "\n"
          ],
          "name": "stdout"
        }
      ]
    },
    {
      "cell_type": "markdown",
      "metadata": {
        "id": "jITZhLkmY--J"
      },
      "source": [
        "### Connect to the AWS RDS instance and write each DataFrame to its table. "
      ]
    },
    {
      "cell_type": "code",
      "metadata": {
        "id": "7jiUvs1aY--L",
        "colab": {
          "base_uri": "https://localhost:8080/"
        },
        "outputId": "121202e1-1589-4452-b61f-39bcc6400130"
      },
      "source": [
        "# Configure settings for RDS\n",
        "from getpass import getpass\n",
        "password = getpass('Enter database password')\n",
        "mode = \"append\"\n",
        "jdbc_url=\"jdbc:postgresql://dataviz.ciao1tqx9lfb.us-east-2.rds.amazonaws.com:5432/challenge_big_data_db\"\n",
        "config = {\"user\":\"postgres\", \n",
        "          \"password\": password, \n",
        "          \"driver\":\"org.postgresql.Driver\"}"
      ],
      "execution_count": 10,
      "outputs": [
        {
          "output_type": "stream",
          "text": [
            "Enter database password··········\n"
          ],
          "name": "stdout"
        }
      ]
    },
    {
      "cell_type": "code",
      "metadata": {
        "id": "T2zgZ-aKY--Q"
      },
      "source": [
        "# Write review_id_df to table in RDS\n",
        "review_id_df.write.jdbc(url=jdbc_url, table='review_id_table', mode=mode, properties=config)"
      ],
      "execution_count": null,
      "outputs": []
    },
    {
      "cell_type": "code",
      "metadata": {
        "id": "1m3yzn-LY--U"
      },
      "source": [
        "# Write products_df to table in RDS\n",
        "# about 3 min\n",
        "products_df.write.jdbc(url=jdbc_url, table='products_table', mode=mode, properties=config)"
      ],
      "execution_count": 16,
      "outputs": []
    },
    {
      "cell_type": "code",
      "metadata": {
        "id": "KbXri15fY--Z"
      },
      "source": [
        "# Write customers_df to table in RDS\n",
        "# 5 min 14 s\n",
        "customers_df.write.jdbc(url=jdbc_url, table='customers_table', mode=mode, properties=config)"
      ],
      "execution_count": null,
      "outputs": []
    },
    {
      "cell_type": "code",
      "metadata": {
        "id": "XdQknSHLY--e"
      },
      "source": [
        "# Write vine_df to table in RDS\n",
        "# 11 minutes\n",
        "vine_df.write.jdbc(url=jdbc_url, table='vine_table', mode=mode, properties=config)"
      ],
      "execution_count": 11,
      "outputs": []
    },
    {
      "cell_type": "markdown",
      "metadata": {
        "id": "y5BdB9e94P-D"
      },
      "source": [
        "## End of Deliverable 1"
      ]
    },
    {
      "cell_type": "markdown",
      "metadata": {
        "id": "53S8R1oW4dhr"
      },
      "source": [
        "# Deliverable 2: Determine Bias of Vine Reviews."
      ]
    },
    {
      "cell_type": "code",
      "metadata": {
        "colab": {
          "base_uri": "https://localhost:8080/"
        },
        "id": "MfIZnAZo4Pgd",
        "outputId": "7d54bc99-35c1-4cc6-f93c-6af73d409f28"
      },
      "source": [
        "# Step 1: Total number of votes > 20\n",
        "top_reviews_df = df.filter(\"total_votes>=20\")\n",
        "top_reviews_df.show(10)\n"
      ],
      "execution_count": null,
      "outputs": [
        {
          "output_type": "stream",
          "text": [
            "+-----------+-----------+--------------+----------+--------------+--------------------+----------------+-----------+-------------+-----------+----+-----------------+--------------------+--------------------+-----------+\n",
            "|marketplace|customer_id|     review_id|product_id|product_parent|       product_title|product_category|star_rating|helpful_votes|total_votes|vine|verified_purchase|     review_headline|         review_body|review_date|\n",
            "+-----------+-----------+--------------+----------+--------------+--------------------+----------------+-----------+-------------+-----------+----+-----------------+--------------------+--------------------+-----------+\n",
            "|         US|   52534548|R18VIM840CEFRP|1621360075|     143884185|The Real Kosher J...|           Books|          1|           16|        105|   N|                N|                 SLH|I'm sorry, but ca...| 2012-05-03|\n",
            "|         US|   49541983|R14PMAJTY0EAAT|1937007456|     411822135|The Lost Fleet: B...|           Books|          4|          135|        142|   N|                Y|Good Continuation...|Bottom line is th...| 2012-05-03|\n",
            "|         US|   52978967|R1363VA3TPNLVB|0670022969|     432940103|American Nations:...|           Books|          5|          370|        388|   N|                Y|Like scales falli...|Colin Woodard has...| 2012-05-03|\n",
            "|         US|   52445438| RBQZC5A3TSWT5|085768986X|      69886969|Joss Whedon: The ...|           Books|          5|           11|         22|   N|                Y| it's full of words!|i pre-ordered thi...| 2012-05-02|\n",
            "|         US|   25822716| RW00TDPV9U93E|1595554599|     942139077|The Jefferson Lie...|           Books|          1|           35|         76|   N|                N|Saw the author on...|I saw the author ...| 2012-05-02|\n",
            "|         US|   52977415|R3OW0AIVLEDIQ7|0262016729|     624789283|The Clash of Gene...|           Books|          3|           99|        121|   N|                N|Fiscal analysis 1...|This book covers ...| 2012-05-02|\n",
            "|         US|   26721603|R3DTESO4FUAPKQ|1455502413|     137970084|Rather Outspoken:...|           Books|          5|           90|        102|   N|                N|Rather knocks it ...|I have worked for...| 2012-05-02|\n",
            "|         US|   39735480|R18I0XBYWFSR5T|1595554599|     942139077|The Jefferson Lie...|           Books|          1|           16|         50|   N|                N|           apt title|I was curious abo...| 2012-05-02|\n",
            "|         US|   31398202|R1VSQ3QK30VDI0|0393088774|     132712094|End This Depressi...|           Books|          5|           23|         35|   N|                N|Clear arguments u...|This is a great b...| 2012-05-02|\n",
            "|         US|   13575437|R3NEJBF4FXMVUU|1609412427|     422462452|Vegan Cooking for...|           Books|          5|           87|         90|   N|                Y|Cooking up a stor...|I love this book....| 2012-05-02|\n",
            "+-----------+-----------+--------------+----------+--------------+--------------------+----------------+-----------+-------------+-----------+----+-----------------+--------------------+--------------------+-----------+\n",
            "only showing top 10 rows\n",
            "\n"
          ],
          "name": "stdout"
        }
      ]
    },
    {
      "cell_type": "code",
      "metadata": {
        "id": "Exuo6ebUsCqW",
        "colab": {
          "base_uri": "https://localhost:8080/"
        },
        "outputId": "ee41a6a2-90e3-422c-86e1-2f10edbc5d1b"
      },
      "source": [
        "# Step 2: Calculating percentage in 2 steps.\n",
        "percentage_df = top_reviews_df.withColumn('percentage',top_reviews_df['helpful_votes']/top_reviews_df[\"total_votes\"])\n",
        "Percentage_df = percentage_df.withColumn(\"Percentage\",percentage_df[\"percentage\"]*100)\n",
        "Percentage_df.show(10)"
      ],
      "execution_count": null,
      "outputs": [
        {
          "output_type": "stream",
          "text": [
            "+-----------+-----------+--------------+----------+--------------+--------------------+----------------+-----------+-------------+-----------+----+-----------------+--------------------+--------------------+-----------+------------------+\n",
            "|marketplace|customer_id|     review_id|product_id|product_parent|       product_title|product_category|star_rating|helpful_votes|total_votes|vine|verified_purchase|     review_headline|         review_body|review_date|        Percentage|\n",
            "+-----------+-----------+--------------+----------+--------------+--------------------+----------------+-----------+-------------+-----------+----+-----------------+--------------------+--------------------+-----------+------------------+\n",
            "|         US|   52534548|R18VIM840CEFRP|1621360075|     143884185|The Real Kosher J...|           Books|          1|           16|        105|   N|                N|                 SLH|I'm sorry, but ca...| 2012-05-03|15.238095238095239|\n",
            "|         US|   49541983|R14PMAJTY0EAAT|1937007456|     411822135|The Lost Fleet: B...|           Books|          4|          135|        142|   N|                Y|Good Continuation...|Bottom line is th...| 2012-05-03| 95.07042253521126|\n",
            "|         US|   52978967|R1363VA3TPNLVB|0670022969|     432940103|American Nations:...|           Books|          5|          370|        388|   N|                Y|Like scales falli...|Colin Woodard has...| 2012-05-03| 95.36082474226805|\n",
            "|         US|   52445438| RBQZC5A3TSWT5|085768986X|      69886969|Joss Whedon: The ...|           Books|          5|           11|         22|   N|                Y| it's full of words!|i pre-ordered thi...| 2012-05-02|              50.0|\n",
            "|         US|   25822716| RW00TDPV9U93E|1595554599|     942139077|The Jefferson Lie...|           Books|          1|           35|         76|   N|                N|Saw the author on...|I saw the author ...| 2012-05-02| 46.05263157894737|\n",
            "|         US|   52977415|R3OW0AIVLEDIQ7|0262016729|     624789283|The Clash of Gene...|           Books|          3|           99|        121|   N|                N|Fiscal analysis 1...|This book covers ...| 2012-05-02| 81.81818181818183|\n",
            "|         US|   26721603|R3DTESO4FUAPKQ|1455502413|     137970084|Rather Outspoken:...|           Books|          5|           90|        102|   N|                N|Rather knocks it ...|I have worked for...| 2012-05-02| 88.23529411764706|\n",
            "|         US|   39735480|R18I0XBYWFSR5T|1595554599|     942139077|The Jefferson Lie...|           Books|          1|           16|         50|   N|                N|           apt title|I was curious abo...| 2012-05-02|              32.0|\n",
            "|         US|   31398202|R1VSQ3QK30VDI0|0393088774|     132712094|End This Depressi...|           Books|          5|           23|         35|   N|                N|Clear arguments u...|This is a great b...| 2012-05-02| 65.71428571428571|\n",
            "|         US|   13575437|R3NEJBF4FXMVUU|1609412427|     422462452|Vegan Cooking for...|           Books|          5|           87|         90|   N|                Y|Cooking up a stor...|I love this book....| 2012-05-02| 96.66666666666667|\n",
            "+-----------+-----------+--------------+----------+--------------+--------------------+----------------+-----------+-------------+-----------+----+-----------------+--------------------+--------------------+-----------+------------------+\n",
            "only showing top 10 rows\n",
            "\n"
          ],
          "name": "stdout"
        }
      ]
    },
    {
      "cell_type": "code",
      "metadata": {
        "colab": {
          "base_uri": "https://localhost:8080/"
        },
        "id": "da659Fij7Z9l",
        "outputId": "66431cc6-6504-4d00-d2e8-12183d4189ce"
      },
      "source": [
        "# Filtering percentage above 50%\n",
        "high_percent_df = Percentage_df.filter(\"Percentage > 50\")\n",
        "high_percent_df.show()"
      ],
      "execution_count": null,
      "outputs": [
        {
          "output_type": "stream",
          "text": [
            "+-----------+-----------+--------------+----------+--------------+--------------------+----------------+-----------+-------------+-----------+----+-----------------+--------------------+--------------------+-----------+-----------------+\n",
            "|marketplace|customer_id|     review_id|product_id|product_parent|       product_title|product_category|star_rating|helpful_votes|total_votes|vine|verified_purchase|     review_headline|         review_body|review_date|       Percentage|\n",
            "+-----------+-----------+--------------+----------+--------------+--------------------+----------------+-----------+-------------+-----------+----+-----------------+--------------------+--------------------+-----------+-----------------+\n",
            "|         US|   49541983|R14PMAJTY0EAAT|1937007456|     411822135|The Lost Fleet: B...|           Books|          4|          135|        142|   N|                Y|Good Continuation...|Bottom line is th...| 2012-05-03|95.07042253521126|\n",
            "|         US|   52978967|R1363VA3TPNLVB|0670022969|     432940103|American Nations:...|           Books|          5|          370|        388|   N|                Y|Like scales falli...|Colin Woodard has...| 2012-05-03|95.36082474226805|\n",
            "|         US|   52977415|R3OW0AIVLEDIQ7|0262016729|     624789283|The Clash of Gene...|           Books|          3|           99|        121|   N|                N|Fiscal analysis 1...|This book covers ...| 2012-05-02|81.81818181818183|\n",
            "|         US|   26721603|R3DTESO4FUAPKQ|1455502413|     137970084|Rather Outspoken:...|           Books|          5|           90|        102|   N|                N|Rather knocks it ...|I have worked for...| 2012-05-02|88.23529411764706|\n",
            "|         US|   31398202|R1VSQ3QK30VDI0|0393088774|     132712094|End This Depressi...|           Books|          5|           23|         35|   N|                N|Clear arguments u...|This is a great b...| 2012-05-02|65.71428571428571|\n",
            "|         US|   13575437|R3NEJBF4FXMVUU|1609412427|     422462452|Vegan Cooking for...|           Books|          5|           87|         90|   N|                Y|Cooking up a stor...|I love this book....| 2012-05-02|96.66666666666667|\n",
            "|         US|   14213000|R34ZTQTHWRHT5R|1893183246|      42346661|Voyagers: The Sle...|           Books|          5|           18|         20|   N|                Y|        Enlightening|After determining...| 2012-05-02|             90.0|\n",
            "|         US|   30627084|R367X555006ROC|0984975314|     617362935|Arena One: Slaver...|           Books|          1|           39|         44|   N|                N|This is NOT \"The ...|This dystopian YA...| 2012-05-02|88.63636363636364|\n",
            "|         US|   32783890| R4NCMAZCRAXHT|1584798947|     555497783|CakeLove in the M...|           Books|          3|           19|         21|   N|                N|For the novice ba...|Pros: beautiful p...| 2012-05-02|90.47619047619048|\n",
            "|         US|   10634581|R33JIVA97UYKH2|1611453305|     328274764|Perfume: The Alch...|           Books|          2|           23|         29|   N|                Y|    Fails to Deliver|This book disappo...| 2012-05-02| 79.3103448275862|\n",
            "|         US|   24512353| RSD6TF0E24D9P|0061985120|      64682743|Still the Best Ho...|           Books|          5|           30|         34|   N|                Y|PLEASE ACTIVATE F...|As I believe the ...| 2012-05-02|88.23529411764706|\n",
            "|         US|   46969326|R2DLFW0GMIFTKP|0761155589|     818975183|Just Ride: A Radi...|           Books|          5|           53|         58|   N|                Y|           Just Read|A few years ago I...| 2012-05-02|91.37931034482759|\n",
            "|         US|   24202187| RQZ638E0E34Z3|1937007448|     512918432|Deadlocked (Sooki...|           Books|          2|          259|        299|   N|                N|Really not very good|I have loved all ...| 2012-05-02|86.62207357859532|\n",
            "|         US|   35906535|R2RP1D1I036Q6C|0393338827|      80223098|The Big Short: In...|           Books|          1|           20|         34|   N|                N|      Self-indulgent|Micheal Lewis wri...| 2012-05-02|58.82352941176471|\n",
            "|         US|   26356879|R3TJPP6SLHXO41|1591843529|     284133276|The Personal MBA:...|           Books|          1|           16|         27|   N|                Y|This book was not...|The Personal MBA ...| 2012-05-02|59.25925925925925|\n",
            "|         US|   42590007|R2DK25C3UOICDC|1118204123|     398659789|iOS Hacker's Hand...|           Books|          5|           13|         22|   N|                N|Great book. Stop ...|This is a great b...| 2012-05-02|59.09090909090909|\n",
            "|         US|   26851687|R3LWNR7QFH1P0U|1581604521|     758372207|Speak Like A Nati...|           Books|          1|           18|         24|   N|                N|It's like reading...|This review is fr...| 2012-05-02|             75.0|\n",
            "|         US|   46381757|R32X7O6DKBEXM0|1439193541|     701007257|American Canopy: ...|           Books|          5|           25|         26|   N|                N|     Ground breaking|This is a real ma...| 2012-05-02|96.15384615384616|\n",
            "|         US|    9973109|R16VVIH03CTRHB|1905605285|     400609443|Puzzling People: ...|           Books|          5|           16|         25|   N|                Y|          Great read|This is a great b...| 2012-05-02|             64.0|\n",
            "|         US|    9995400|R2X32J4OCKG97E|1608680797|     693630682|Clutter Busting Y...|           Books|          5|           36|         37|   N|                Y|Do Yourself a Fav...|\\\\\"Clutter Bustin...| 2012-05-02| 97.2972972972973|\n",
            "+-----------+-----------+--------------+----------+--------------+--------------------+----------------+-----------+-------------+-----------+----+-----------------+--------------------+--------------------+-----------+-----------------+\n",
            "only showing top 20 rows\n",
            "\n"
          ],
          "name": "stdout"
        }
      ]
    },
    {
      "cell_type": "code",
      "metadata": {
        "colab": {
          "base_uri": "https://localhost:8080/"
        },
        "id": "Mhtw45YGUOHx",
        "outputId": "4b5433da-f001-42f7-bacd-caa80ade2f1e"
      },
      "source": [
        "# Step 3: Filter vine(paid)= Y\n",
        "vine_paid_df = high_percent_df.filter(high_percent_df[\"vine\"] == \"Y\")\n",
        "vine_paid_df.show(10)"
      ],
      "execution_count": null,
      "outputs": [
        {
          "output_type": "stream",
          "text": [
            "+-----------+-----------+--------------+----------+--------------+--------------------+----------------+-----------+-------------+-----------+----+-----------------+--------------------+--------------------+-----------+-----------------+\n",
            "|marketplace|customer_id|     review_id|product_id|product_parent|       product_title|product_category|star_rating|helpful_votes|total_votes|vine|verified_purchase|     review_headline|         review_body|review_date|       Percentage|\n",
            "+-----------+-----------+--------------+----------+--------------+--------------------+----------------+-----------+-------------+-----------+----+-----------------+--------------------+--------------------+-----------+-----------------+\n",
            "|         US|   50673938|R2Z8083V8ZFQVZ|1612183549|     561835180|Redemption (The P...|           Books|          3|           82|         87|   Y|                N|     Promising debut|The positives:  t...| 2012-05-02|94.25287356321839|\n",
            "|         US|   35653914| RK25TAO4GGS5G|0547567375|     266689242|The Bell Bandit (...|           Books|          3|           22|         24|   Y|                N|Torture Scene Cos...|There were many a...| 2012-05-02|91.66666666666666|\n",
            "|         US|   42944532|R2SJQG3C6KY0M8|1742205933|     287545472|The World's Best ...|           Books|          3|           18|         20|   Y|                N|For armchair cook...|The wonderful int...| 2012-05-02|             90.0|\n",
            "|         US|   15737193|R12CHC0CB2WASU|1612183174|     198757847|           King City|           Books|          5|           43|         48|   Y|                N|There's a new she...|Detective Tom Wad...| 2012-05-02|89.58333333333334|\n",
            "|         US|   52772260|R2RY328TIDXMTE|0470647736|     665259602|The Scientific Am...|           Books|          2|           50|         61|   Y|                N|Some inaccurate i...|I have a degree i...| 2012-05-02| 81.9672131147541|\n",
            "|         US|   42632783|R3K8OQU4PEP8W7|1594487014|      47188036|       The Chaperone|           Books|          4|           40|         46|   Y|                N|      A joy to read.|The Chaperone<br ...| 2012-05-01|86.95652173913044|\n",
            "|         US|   44863880|R1JI1A7JT99538|030758836X|      93816562|           Gone Girl|           Books|          3|           28|         40|   Y|                N|Starts off real s...|I'm just going to...| 2012-05-01|             70.0|\n",
            "|         US|   30575449|R247K3K5SVPJUL|0374192049|     262803045|Little Century: A...|           Books|          3|           15|         20|   Y|                N|Tale of the Almos...|LITTLE CENTURY by...| 2012-04-30|             75.0|\n",
            "|         US|   47770260|R27UEUDUYPLXZC|0132944677|     855208343|The College Solut...|           Books|          5|           20|         24|   Y|                N|This is the pract...|This is it.  The ...| 2012-04-30|83.33333333333334|\n",
            "|         US|   35417238|R2QQDNBYDIEL9F|1612182321|     674641303|Technomancer (Uns...|           Books|          5|           35|         41|   Y|                N| A Thrilling Mystery|Quentin Draith wa...| 2012-04-30|85.36585365853658|\n",
            "+-----------+-----------+--------------+----------+--------------+--------------------+----------------+-----------+-------------+-----------+----+-----------------+--------------------+--------------------+-----------+-----------------+\n",
            "only showing top 10 rows\n",
            "\n"
          ],
          "name": "stdout"
        }
      ]
    },
    {
      "cell_type": "code",
      "metadata": {
        "colab": {
          "base_uri": "https://localhost:8080/"
        },
        "id": "mjqJ0zF-gjtP",
        "outputId": "1f520a4a-8225-4c64-87cf-2856598faff5"
      },
      "source": [
        "# Step 4: Filter vine(unpaid)= N\n",
        "vine_unpaid_df = high_percent_df.filter(high_percent_df[\"vine\"] == \"N\")\n",
        "vine_unpaid_df.show(10)"
      ],
      "execution_count": null,
      "outputs": [
        {
          "output_type": "stream",
          "text": [
            "+-----------+-----------+--------------+----------+--------------+--------------------+----------------+-----------+-------------+-----------+----+-----------------+--------------------+--------------------+-----------+-----------------+\n",
            "|marketplace|customer_id|     review_id|product_id|product_parent|       product_title|product_category|star_rating|helpful_votes|total_votes|vine|verified_purchase|     review_headline|         review_body|review_date|       Percentage|\n",
            "+-----------+-----------+--------------+----------+--------------+--------------------+----------------+-----------+-------------+-----------+----+-----------------+--------------------+--------------------+-----------+-----------------+\n",
            "|         US|   49541983|R14PMAJTY0EAAT|1937007456|     411822135|The Lost Fleet: B...|           Books|          4|          135|        142|   N|                Y|Good Continuation...|Bottom line is th...| 2012-05-03|95.07042253521126|\n",
            "|         US|   52978967|R1363VA3TPNLVB|0670022969|     432940103|American Nations:...|           Books|          5|          370|        388|   N|                Y|Like scales falli...|Colin Woodard has...| 2012-05-03|95.36082474226805|\n",
            "|         US|   52977415|R3OW0AIVLEDIQ7|0262016729|     624789283|The Clash of Gene...|           Books|          3|           99|        121|   N|                N|Fiscal analysis 1...|This book covers ...| 2012-05-02|81.81818181818183|\n",
            "|         US|   26721603|R3DTESO4FUAPKQ|1455502413|     137970084|Rather Outspoken:...|           Books|          5|           90|        102|   N|                N|Rather knocks it ...|I have worked for...| 2012-05-02|88.23529411764706|\n",
            "|         US|   31398202|R1VSQ3QK30VDI0|0393088774|     132712094|End This Depressi...|           Books|          5|           23|         35|   N|                N|Clear arguments u...|This is a great b...| 2012-05-02|65.71428571428571|\n",
            "|         US|   13575437|R3NEJBF4FXMVUU|1609412427|     422462452|Vegan Cooking for...|           Books|          5|           87|         90|   N|                Y|Cooking up a stor...|I love this book....| 2012-05-02|96.66666666666667|\n",
            "|         US|   14213000|R34ZTQTHWRHT5R|1893183246|      42346661|Voyagers: The Sle...|           Books|          5|           18|         20|   N|                Y|        Enlightening|After determining...| 2012-05-02|             90.0|\n",
            "|         US|   30627084|R367X555006ROC|0984975314|     617362935|Arena One: Slaver...|           Books|          1|           39|         44|   N|                N|This is NOT \"The ...|This dystopian YA...| 2012-05-02|88.63636363636364|\n",
            "|         US|   32783890| R4NCMAZCRAXHT|1584798947|     555497783|CakeLove in the M...|           Books|          3|           19|         21|   N|                N|For the novice ba...|Pros: beautiful p...| 2012-05-02|90.47619047619048|\n",
            "|         US|   10634581|R33JIVA97UYKH2|1611453305|     328274764|Perfume: The Alch...|           Books|          2|           23|         29|   N|                Y|    Fails to Deliver|This book disappo...| 2012-05-02| 79.3103448275862|\n",
            "+-----------+-----------+--------------+----------+--------------+--------------------+----------------+-----------+-------------+-----------+----+-----------------+--------------------+--------------------+-----------+-----------------+\n",
            "only showing top 10 rows\n",
            "\n"
          ],
          "name": "stdout"
        }
      ]
    },
    {
      "cell_type": "code",
      "metadata": {
        "id": "g8NMv9GKiZYe"
      },
      "source": [
        "# Step 5:  Total number of reviews, the number of 5-star reviews, and the percentage of 5-star reviews for review(paid)."
      ],
      "execution_count": null,
      "outputs": []
    },
    {
      "cell_type": "markdown",
      "metadata": {
        "id": "JJiN5fY-W_Kp"
      },
      "source": [
        "##Paid Reviews"
      ]
    },
    {
      "cell_type": "code",
      "metadata": {
        "colab": {
          "base_uri": "https://localhost:8080/"
        },
        "id": "ixHtPjcejtru",
        "outputId": "c3c1d979-5cac-4090-8e97-f29649e0f010"
      },
      "source": [
        "from pyspark.sql.functions import sum, count\n",
        "# Total number of reviews\n",
        "total_reviews_sum = vine_paid_df.select(sum(\"star_rating\"))\n",
        "total_reviews_sum.show()"
      ],
      "execution_count": null,
      "outputs": [
        {
          "output_type": "stream",
          "text": [
            "+----------------+\n",
            "|sum(star_rating)|\n",
            "+----------------+\n",
            "|           16929|\n",
            "+----------------+\n",
            "\n"
          ],
          "name": "stdout"
        }
      ]
    },
    {
      "cell_type": "code",
      "metadata": {
        "colab": {
          "base_uri": "https://localhost:8080/"
        },
        "id": "KBgyus6B-HJh",
        "outputId": "24b73dfb-d20e-41c2-d618-12759c37fd6d"
      },
      "source": [
        "# Total number of reviews\n",
        "total_reviews_count = vine_paid_df.select(count(\"star_rating\"))\n",
        "total_reviews_count.show()"
      ],
      "execution_count": null,
      "outputs": [
        {
          "output_type": "stream",
          "text": [
            "+------------------+\n",
            "|count(star_rating)|\n",
            "+------------------+\n",
            "|              4743|\n",
            "+------------------+\n",
            "\n"
          ],
          "name": "stdout"
        }
      ]
    },
    {
      "cell_type": "code",
      "metadata": {
        "colab": {
          "base_uri": "https://localhost:8080/"
        },
        "id": "FTtfPmDimrSq",
        "outputId": "99cdc934-8b26-411b-85be-969534af8e55"
      },
      "source": [
        "# Total number of 5 star reviews\n",
        "five_star_df= vine_paid_df.filter(\"star_rating == 5\")\n",
        "five_star_df.show(10)\n",
        "# Total Five star reviews\n",
        "total_five_star_df = five_star_df.select(sum(\"star_rating\"))\n",
        "total_five_star_df.show()"
      ],
      "execution_count": null,
      "outputs": [
        {
          "output_type": "stream",
          "text": [
            "+-----------+-----------+--------------+----------+--------------+--------------------+----------------+-----------+-------------+-----------+----+-----------------+--------------------+--------------------+-----------+-----------------+\n",
            "|marketplace|customer_id|     review_id|product_id|product_parent|       product_title|product_category|star_rating|helpful_votes|total_votes|vine|verified_purchase|     review_headline|         review_body|review_date|       Percentage|\n",
            "+-----------+-----------+--------------+----------+--------------+--------------------+----------------+-----------+-------------+-----------+----+-----------------+--------------------+--------------------+-----------+-----------------+\n",
            "|         US|   15737193|R12CHC0CB2WASU|1612183174|     198757847|           King City|           Books|          5|           43|         48|   Y|                N|There's a new she...|Detective Tom Wad...| 2012-05-02|89.58333333333334|\n",
            "|         US|   47770260|R27UEUDUYPLXZC|0132944677|     855208343|The College Solut...|           Books|          5|           20|         24|   Y|                N|This is the pract...|This is it.  The ...| 2012-04-30|83.33333333333334|\n",
            "|         US|   35417238|R2QQDNBYDIEL9F|1612182321|     674641303|Technomancer (Uns...|           Books|          5|           35|         41|   Y|                N| A Thrilling Mystery|Quentin Draith wa...| 2012-04-30|85.36585365853658|\n",
            "|         US|   53070450|R3FO8YQ2BKL1RG|1118107381|      89683871|Evernote For Dummies|           Books|          5|           93|         94|   Y|                N|This is THE guide...|Evernote is a gre...| 2012-04-28|98.93617021276596|\n",
            "|         US|   52904056|R3DRE8T4NTEWNV|111802740X|     925010801|Frommer's New Yor...|           Books|          5|           28|         28|   Y|                N|An excellent reso...|For years I've pe...| 2012-04-28|            100.0|\n",
            "|         US|   14653952|R2ZD6GIDCKAJNM|0805094598|     380937934|Shadow and Bone (...|           Books|          5|          118|        139|   Y|                N|     Shadow and Bone|How can I convey ...| 2012-04-28|84.89208633093526|\n",
            "|         US|   52109863| RHGNFBA3HATNJ|0547569653|     461814573|Eat and Run: My U...|           Books|          5|          223|        237|   Y|                N|  I love Scott Jurek|Many people first...| 2012-04-27|94.09282700421942|\n",
            "|         US|   51250504|R3IRTK29MZLYTQ|0805090037|     853046074| Bring Up the Bodies|           Books|          5|           24|         29|   Y|                N|Bring on the awar...|\\\\\"Bring Up the B...| 2012-04-26|82.75862068965517|\n",
            "|         US|   29744123| RK49ETJM70RY1|0805090037|     853046074| Bring Up the Bodies|           Books|          5|          244|        259|   Y|                N|Mr. Secretary Cro...|That's how Hilary...| 2012-04-26|94.20849420849422|\n",
            "|         US|   13947077| RGFM0JV76IWTR|0547807686|     997288261|The Dark Monk (US...|           Books|          5|           85|         94|   Y|                N|Fun and addictive...|When I read some ...| 2012-04-26|90.42553191489363|\n",
            "+-----------+-----------+--------------+----------+--------------+--------------------+----------------+-----------+-------------+-----------+----+-----------------+--------------------+--------------------+-----------+-----------------+\n",
            "only showing top 10 rows\n",
            "\n",
            "+----------------+\n",
            "|sum(star_rating)|\n",
            "+----------------+\n",
            "|            8020|\n",
            "+----------------+\n",
            "\n"
          ],
          "name": "stdout"
        }
      ]
    },
    {
      "cell_type": "code",
      "metadata": {
        "colab": {
          "base_uri": "https://localhost:8080/"
        },
        "id": "FKv-y9s8ASO4",
        "outputId": "cc53789d-a2a7-47d2-c94d-280e24905f94"
      },
      "source": [
        "# Total Five star reviews\n",
        "total_five_star_count = five_star_df.select(count(\"star_rating\"))\n",
        "total_five_star_count.show()"
      ],
      "execution_count": null,
      "outputs": [
        {
          "output_type": "stream",
          "text": [
            "+------------------+\n",
            "|count(star_rating)|\n",
            "+------------------+\n",
            "|              1604|\n",
            "+------------------+\n",
            "\n"
          ],
          "name": "stdout"
        }
      ]
    },
    {
      "cell_type": "code",
      "metadata": {
        "colab": {
          "base_uri": "https://localhost:8080/",
          "height": 215
        },
        "id": "j16eCAYlrIRz",
        "outputId": "82384a05-0ee3-4215-e777-a31b2bc7fcfa"
      },
      "source": [
        "# Percentage of 5 star reviews\n",
        "paid_five_star_percentage = (total_five_star_count/total_reviews_count)\n",
        "#round(paid_five_star_percentage, 3)\n",
        "paid_five_star_percentage.show()"
      ],
      "execution_count": null,
      "outputs": [
        {
          "output_type": "error",
          "ename": "TypeError",
          "evalue": "ignored",
          "traceback": [
            "\u001b[0;31m---------------------------------------------------------------------------\u001b[0m",
            "\u001b[0;31mTypeError\u001b[0m                                 Traceback (most recent call last)",
            "\u001b[0;32m<ipython-input-73-90920051fb4d>\u001b[0m in \u001b[0;36m<module>\u001b[0;34m()\u001b[0m\n\u001b[1;32m      1\u001b[0m \u001b[0;31m# Percentage of 5 star reviews\u001b[0m\u001b[0;34m\u001b[0m\u001b[0;34m\u001b[0m\u001b[0;34m\u001b[0m\u001b[0m\n\u001b[0;32m----> 2\u001b[0;31m \u001b[0mpaid_five_star_percentage\u001b[0m \u001b[0;34m=\u001b[0m \u001b[0;34m(\u001b[0m\u001b[0mtotal_five_star_count\u001b[0m\u001b[0;34m/\u001b[0m\u001b[0mtotal_reviews_count\u001b[0m\u001b[0;34m)\u001b[0m\u001b[0;34m\u001b[0m\u001b[0;34m\u001b[0m\u001b[0m\n\u001b[0m\u001b[1;32m      3\u001b[0m \u001b[0;31m#round(paid_five_star_percentage, 3)\u001b[0m\u001b[0;34m\u001b[0m\u001b[0;34m\u001b[0m\u001b[0;34m\u001b[0m\u001b[0m\n\u001b[1;32m      4\u001b[0m \u001b[0mpaid_five_star_percentage\u001b[0m\u001b[0;34m.\u001b[0m\u001b[0mshow\u001b[0m\u001b[0;34m(\u001b[0m\u001b[0;34m)\u001b[0m\u001b[0;34m\u001b[0m\u001b[0;34m\u001b[0m\u001b[0m\n",
            "\u001b[0;31mTypeError\u001b[0m: unsupported operand type(s) for /: 'DataFrame' and 'DataFrame'"
          ]
        }
      ]
    }
  ]
}