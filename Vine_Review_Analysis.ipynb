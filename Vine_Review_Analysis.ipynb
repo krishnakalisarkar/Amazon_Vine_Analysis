{
  "nbformat": 4,
  "nbformat_minor": 0,
  "metadata": {
    "colab": {
      "name": "Vine_Review_Analysis.ipynb",
      "provenance": [],
      "collapsed_sections": [],
      "authorship_tag": "ABX9TyOAxXyTemfDZkF0YJGTHhE/",
      "include_colab_link": true
    },
    "kernelspec": {
      "name": "python3",
      "display_name": "Python 3"
    },
    "language_info": {
      "name": "python"
    }
  },
  "cells": [
    {
      "cell_type": "markdown",
      "metadata": {
        "id": "view-in-github",
        "colab_type": "text"
      },
      "source": [
        "<a href=\"https://colab.research.google.com/github/krishnakalisarkar/Amazon_Vine_Analysis/blob/main/Vine_Review_Analysis.ipynb\" target=\"_parent\"><img src=\"https://colab.research.google.com/assets/colab-badge.svg\" alt=\"Open In Colab\"/></a>"
      ]
    },
    {
      "cell_type": "code",
      "metadata": {
        "colab": {
          "base_uri": "https://localhost:8080/"
        },
        "id": "fIjE_9Tc_-NL",
        "outputId": "8f06f0a6-23d3-43d1-ace8-cc645e1f7403"
      },
      "source": [
        "import os\n",
        "# Find the latest version of spark 3.0 from http://www.apache.org/dist/spark/ and enter as the spark version\n",
        "# For example:\n",
        "# spark_version = 'spark-3.0.3'\n",
        "spark_version = 'spark-3.1.2'\n",
        "os.environ['SPARK_VERSION']=spark_version\n",
        "\n",
        "# Install Spark and Java\n",
        "!apt-get update\n",
        "!apt-get install openjdk-11-jdk-headless -qq > /dev/null\n",
        "!wget -q http://www.apache.org/dist/spark/$SPARK_VERSION/$SPARK_VERSION-bin-hadoop2.7.tgz\n",
        "!tar xf $SPARK_VERSION-bin-hadoop2.7.tgz\n",
        "!pip install -q findspark\n",
        "\n",
        "# Set Environment Variables\n",
        "import os\n",
        "os.environ[\"JAVA_HOME\"] = \"/usr/lib/jvm/java-11-openjdk-amd64\"\n",
        "os.environ[\"SPARK_HOME\"] = f\"/content/{spark_version}-bin-hadoop2.7\"\n",
        "\n",
        "# Start a SparkSession\n",
        "import findspark\n",
        "findspark.init()"
      ],
      "execution_count": 1,
      "outputs": [
        {
          "output_type": "stream",
          "text": [
            "\r0% [Working]\r            \rGet:1 http://security.ubuntu.com/ubuntu bionic-security InRelease [88.7 kB]\n",
            "\r0% [Connecting to archive.ubuntu.com (91.189.88.152)] [1 InRelease 4,096 B/88.7\r0% [Waiting for headers] [Connected to cloud.r-project.org (65.8.183.2)] [Waiti\r0% [1 InRelease gpgv 88.7 kB] [Waiting for headers] [Waiting for headers] [Wait\r                                                                               \rGet:2 https://cloud.r-project.org/bin/linux/ubuntu bionic-cran40/ InRelease [3,626 B]\n",
            "\r0% [1 InRelease gpgv 88.7 kB] [Waiting for headers] [Waiting for headers] [Wait\r                                                                               \rHit:3 http://archive.ubuntu.com/ubuntu bionic InRelease\n",
            "\r                                                                               \r0% [1 InRelease gpgv 88.7 kB] [Waiting for headers] [Waiting for headers]\r                                                                         \rGet:4 http://ppa.launchpad.net/c2d4u.team/c2d4u4.0+/ubuntu bionic InRelease [15.9 kB]\n",
            "Get:5 http://archive.ubuntu.com/ubuntu bionic-updates InRelease [88.7 kB]\n",
            "Hit:6 http://ppa.launchpad.net/cran/libgit2/ubuntu bionic InRelease\n",
            "Get:7 http://security.ubuntu.com/ubuntu bionic-security/multiverse amd64 Packages [26.7 kB]\n",
            "Get:8 http://archive.ubuntu.com/ubuntu bionic-backports InRelease [74.6 kB]\n",
            "Get:9 http://security.ubuntu.com/ubuntu bionic-security/restricted amd64 Packages [510 kB]\n",
            "Hit:10 http://ppa.launchpad.net/deadsnakes/ppa/ubuntu bionic InRelease\n",
            "Get:11 http://security.ubuntu.com/ubuntu bionic-security/universe amd64 Packages [1,420 kB]\n",
            "Get:12 http://security.ubuntu.com/ubuntu bionic-security/main amd64 Packages [2,263 kB]\n",
            "Get:13 http://ppa.launchpad.net/graphics-drivers/ppa/ubuntu bionic InRelease [21.3 kB]\n",
            "Get:14 https://cloud.r-project.org/bin/linux/ubuntu bionic-cran40/ Packages [62.9 kB]\n",
            "Get:15 http://ppa.launchpad.net/c2d4u.team/c2d4u4.0+/ubuntu bionic/main Sources [1,786 kB]\n",
            "Get:16 http://archive.ubuntu.com/ubuntu bionic-updates/multiverse amd64 Packages [39.4 kB]\n",
            "Get:17 http://archive.ubuntu.com/ubuntu bionic-updates/universe amd64 Packages [2,195 kB]\n",
            "Get:18 http://ppa.launchpad.net/c2d4u.team/c2d4u4.0+/ubuntu bionic/main amd64 Packages [914 kB]\n",
            "Get:19 http://archive.ubuntu.com/ubuntu bionic-updates/restricted amd64 Packages [544 kB]\n",
            "Get:20 http://archive.ubuntu.com/ubuntu bionic-updates/main amd64 Packages [2,698 kB]\n",
            "Get:21 http://ppa.launchpad.net/graphics-drivers/ppa/ubuntu bionic/main amd64 Packages [44.1 kB]\n",
            "Ign:22 https://developer.download.nvidia.com/compute/cuda/repos/ubuntu1804/x86_64  InRelease\n",
            "Ign:23 https://developer.download.nvidia.com/compute/machine-learning/repos/ubuntu1804/x86_64  InRelease\n",
            "Get:24 https://developer.download.nvidia.com/compute/cuda/repos/ubuntu1804/x86_64  Release [697 B]\n",
            "Hit:25 https://developer.download.nvidia.com/compute/machine-learning/repos/ubuntu1804/x86_64  Release\n",
            "Get:26 https://developer.download.nvidia.com/compute/cuda/repos/ubuntu1804/x86_64  Release.gpg [836 B]\n",
            "Ign:28 https://developer.download.nvidia.com/compute/cuda/repos/ubuntu1804/x86_64  Packages\n",
            "Get:28 https://developer.download.nvidia.com/compute/cuda/repos/ubuntu1804/x86_64  Packages [695 kB]\n",
            "Fetched 13.5 MB in 11s (1,223 kB/s)\n",
            "Reading package lists... Done\n"
          ],
          "name": "stdout"
        }
      ]
    },
    {
      "cell_type": "code",
      "metadata": {
        "colab": {
          "base_uri": "https://localhost:8080/"
        },
        "id": "L82p6v4LAKJZ",
        "outputId": "ff168fa6-1019-4ba1-a72b-56a1d097165f"
      },
      "source": [
        "# Download the Postgres driver that will allow Spark to interact with Postgres.\n",
        "!wget https://jdbc.postgresql.org/download/postgresql-42.2.16.jar"
      ],
      "execution_count": 2,
      "outputs": [
        {
          "output_type": "stream",
          "text": [
            "--2021-08-05 20:33:41--  https://jdbc.postgresql.org/download/postgresql-42.2.16.jar\n",
            "Resolving jdbc.postgresql.org (jdbc.postgresql.org)... 72.32.157.228, 2001:4800:3e1:1::228\n",
            "Connecting to jdbc.postgresql.org (jdbc.postgresql.org)|72.32.157.228|:443... connected.\n",
            "HTTP request sent, awaiting response... 200 OK\n",
            "Length: 1002883 (979K) [application/java-archive]\n",
            "Saving to: ‘postgresql-42.2.16.jar’\n",
            "\n",
            "postgresql-42.2.16. 100%[===================>] 979.38K  --.-KB/s    in 0.1s    \n",
            "\n",
            "2021-08-05 20:33:41 (6.47 MB/s) - ‘postgresql-42.2.16.jar’ saved [1002883/1002883]\n",
            "\n"
          ],
          "name": "stdout"
        }
      ]
    },
    {
      "cell_type": "code",
      "metadata": {
        "id": "CvjUhvYGAKDm"
      },
      "source": [
        "from pyspark.sql import SparkSession\n",
        "spark = SparkSession.builder.appName(\"M16-Amazon-Challenge\").config(\"spark.driver.extraClassPath\",\"/content/postgresql-42.2.16.jar\").getOrCreate()"
      ],
      "execution_count": 3,
      "outputs": []
    },
    {
      "cell_type": "markdown",
      "metadata": {
        "id": "gOiyYkcZBiid"
      },
      "source": [
        "#Load Amazon Data into Spark DataFrame\n"
      ]
    },
    {
      "cell_type": "code",
      "metadata": {
        "colab": {
          "base_uri": "https://localhost:8080/"
        },
        "id": "lvvfr4muAJ-I",
        "outputId": "4d9fb851-87b8-49a2-d03e-62245f458ab7"
      },
      "source": [
        "# Read in data from S3 Buckets\n",
        "from pyspark import SparkFiles\n",
        "url = \"https://s3.amazonaws.com/amazon-reviews-pds/tsv/amazon_reviews_us_Books_v1_01.tsv.gz\"\n",
        "spark.sparkContext.addFile(url)\n",
        "df = spark.read.option(\"encoding\", \"UTF-8\").csv(SparkFiles.get(\"\"), sep=\"\\t\", header=True, inferSchema=True)\n",
        "# Show DataFrame\n",
        "df.show()"
      ],
      "execution_count": 4,
      "outputs": [
        {
          "output_type": "stream",
          "text": [
            "+-----------+-----------+--------------+----------+--------------+--------------------+----------------+-----------+-------------+-----------+----+-----------------+--------------------+--------------------+-----------+\n",
            "|marketplace|customer_id|     review_id|product_id|product_parent|       product_title|product_category|star_rating|helpful_votes|total_votes|vine|verified_purchase|     review_headline|         review_body|review_date|\n",
            "+-----------+-----------+--------------+----------+--------------+--------------------+----------------+-----------+-------------+-----------+----+-----------------+--------------------+--------------------+-----------+\n",
            "|         US|   22480053|R28HBXXO1UEVJT|0843952016|      34858117|          The Rising|           Books|          5|            0|          0|   N|                N|Great Twist on Zo...|I've known about ...| 2012-05-03|\n",
            "|         US|   44244451| RZKRFS2UUMFFU|031088926X|     676347131|Sticky Faith Teen...|           Books|          5|           15|         15|   N|                Y|Helpful and Pract...|The student curri...| 2012-05-03|\n",
            "|         US|   20357422|R2WAU9MD9K6JQA|0615268102|     763837025|Black Passenger Y...|           Books|          3|            6|          8|   N|                N|                Paul|I found \\\\\"Black ...| 2012-05-03|\n",
            "|         US|   13235208|R36SCTKYTVPZPC|1900869225|     785539232|Direction and Des...|           Books|          5|           10|         11|   N|                Y|Direction and Des...|Sasportas is a br...| 2012-05-03|\n",
            "|         US|   26301786|R10BM6JUOJX27Q|1565129938|      64646125| Until the Next Time|           Books|          3|            0|          0|   Y|                N|       This was Okay|I wanted to love ...| 2012-05-03|\n",
            "|         US|   27780192| RCLZ5OKZNUSY4|146854456X|     270349766| Unfinished Business|           Books|          5|            0|          0|   N|                Y|   Excellent read!!!|What an exciting ...| 2012-05-03|\n",
            "|         US|   13041546|R1S65DJYEI89G4|1118094514|     752141158|The Republican Br...|           Books|          4|            8|         17|   N|                N|A must read for s...|This book is exce...| 2012-05-03|\n",
            "|         US|   51692331|R3KQYBQOLYDETV|0563521147|     729491316|Good Food: 101 Ca...|           Books|          4|            2|          2|   N|                N|   Chocoholic heaven|If you are on a d...| 2012-05-03|\n",
            "|         US|   23108524|R3QV8K7CSU8K2W|0669444421|     261004015|Patterns and Quil...|           Books|          5|            0|          0|   N|                N|Quilt Art Project...|Written by quilt ...| 2012-05-03|\n",
            "|         US|   51692331|R3W5A1WUGO5VQ0|1897784457|     497876045|Practical Food Sm...|           Books|          4|            0|          1|   N|                N|         A good read|Food smoking has ...| 2012-05-03|\n",
            "|         US|   49438248|R20AQCY3FMBVN5|0316738158|     691490916|The Big Love: A N...|           Books|          5|            0|          0|   N|                N|One of my favorites!|This is one of my...| 2012-05-03|\n",
            "|         US|   11818020| R7KY8VL871MVL|0738730440|     544176812|Around the Tarot ...|           Books|          5|           13|         15|   N|                Y|A must for tarot ...|I have been waiti...| 2012-05-03|\n",
            "|         US|   51692331| RHF5E4UOL5LQ3|1902842286|     698916699|Favourite Apple R...|           Books|          5|            2|          2|   N|                N|  A good little book|Jane Austen said ...| 2012-05-03|\n",
            "|         US|   29446920|R1LMUDN5M9G6ZZ|1465399577|     922463098|       Kevin and Tak|           Books|          5|            0|          0|   N|                N|            so great|I felt this was a...| 2012-05-03|\n",
            "|         US|   33284115| RNGA47KD4CEB8|0061934704|     740765152|Opium Nation: Chi...|           Books|          5|            0|          0|   N|                N|Knowing Afghanist...|Fariba Nawa, desc...| 2012-05-03|\n",
            "|         US|   44728718|R33MYHP5RY1139|1432729039|     116349266|        True to Life|           Books|          5|            3|          3|   N|                N|Modern poetry tha...|For many, reading...| 2012-05-03|\n",
            "|         US|   52534548|R18VIM840CEFRP|1621360075|     143884185|The Real Kosher J...|           Books|          1|           16|        105|   N|                N|                 SLH|I'm sorry, but ca...| 2012-05-03|\n",
            "|         US|   37836302| RQOZBXX7M0U6H|097723732X|     106641033|Idioms Go To The ...|           Books|          5|            0|          0|   N|                N|         Great book!|The (slightly) ea...| 2012-05-03|\n",
            "|         US|   38588903|R3SH84TAORQP2T|0983945209|     377432437|Elsie -  Adventur...|           Books|          5|            3|          3|   N|                N|      Terrific Book!|By Den Adler<br /...| 2012-05-03|\n",
            "|         US|   49148452| RL1OHWOHPM7RO|1419701630|     307676830|Chuck Close: Face...|           Books|          5|            8|          9|   N|                N|  Close and personal|The autobiography...| 2012-05-03|\n",
            "+-----------+-----------+--------------+----------+--------------+--------------------+----------------+-----------+-------------+-----------+----+-----------------+--------------------+--------------------+-----------+\n",
            "only showing top 20 rows\n",
            "\n"
          ],
          "name": "stdout"
        }
      ]
    },
    {
      "cell_type": "markdown",
      "metadata": {
        "id": "b3MQiW6gBt1-"
      },
      "source": [
        "##Deliverable 2: Determine Bias of Vine Reviews."
      ]
    },
    {
      "cell_type": "code",
      "metadata": {
        "colab": {
          "base_uri": "https://localhost:8080/"
        },
        "id": "2aUEw6e-AJ4X",
        "outputId": "de59c59b-d08c-46d3-cbb7-0298bcc72905"
      },
      "source": [
        "# Create the vine_table DataFrame\n",
        "vine_df = df.select([\"review_id\",\"star_rating\",\"helpful_votes\",\"total_votes\",\"vine\",\"verified_purchase\"])\n",
        "vine_df.show()"
      ],
      "execution_count": 5,
      "outputs": [
        {
          "output_type": "stream",
          "text": [
            "+--------------+-----------+-------------+-----------+----+-----------------+\n",
            "|     review_id|star_rating|helpful_votes|total_votes|vine|verified_purchase|\n",
            "+--------------+-----------+-------------+-----------+----+-----------------+\n",
            "|R28HBXXO1UEVJT|          5|            0|          0|   N|                N|\n",
            "| RZKRFS2UUMFFU|          5|           15|         15|   N|                Y|\n",
            "|R2WAU9MD9K6JQA|          3|            6|          8|   N|                N|\n",
            "|R36SCTKYTVPZPC|          5|           10|         11|   N|                Y|\n",
            "|R10BM6JUOJX27Q|          3|            0|          0|   Y|                N|\n",
            "| RCLZ5OKZNUSY4|          5|            0|          0|   N|                Y|\n",
            "|R1S65DJYEI89G4|          4|            8|         17|   N|                N|\n",
            "|R3KQYBQOLYDETV|          4|            2|          2|   N|                N|\n",
            "|R3QV8K7CSU8K2W|          5|            0|          0|   N|                N|\n",
            "|R3W5A1WUGO5VQ0|          4|            0|          1|   N|                N|\n",
            "|R20AQCY3FMBVN5|          5|            0|          0|   N|                N|\n",
            "| R7KY8VL871MVL|          5|           13|         15|   N|                Y|\n",
            "| RHF5E4UOL5LQ3|          5|            2|          2|   N|                N|\n",
            "|R1LMUDN5M9G6ZZ|          5|            0|          0|   N|                N|\n",
            "| RNGA47KD4CEB8|          5|            0|          0|   N|                N|\n",
            "|R33MYHP5RY1139|          5|            3|          3|   N|                N|\n",
            "|R18VIM840CEFRP|          1|           16|        105|   N|                N|\n",
            "| RQOZBXX7M0U6H|          5|            0|          0|   N|                N|\n",
            "|R3SH84TAORQP2T|          5|            3|          3|   N|                N|\n",
            "| RL1OHWOHPM7RO|          5|            8|          9|   N|                N|\n",
            "+--------------+-----------+-------------+-----------+----+-----------------+\n",
            "only showing top 20 rows\n",
            "\n"
          ],
          "name": "stdout"
        }
      ]
    },
    {
      "cell_type": "code",
      "metadata": {
        "colab": {
          "base_uri": "https://localhost:8080/"
        },
        "id": "mPY8APv7AJxC",
        "outputId": "396f2bc9-2d0b-4dc8-9bda-0db2b97815ab"
      },
      "source": [
        "# Step 1: Total number of votes > 20\n",
        "top_reviews_df = vine_df.filter(\"total_votes>=20\")\n",
        "top_reviews_df.show(10)"
      ],
      "execution_count": 6,
      "outputs": [
        {
          "output_type": "stream",
          "text": [
            "+--------------+-----------+-------------+-----------+----+-----------------+\n",
            "|     review_id|star_rating|helpful_votes|total_votes|vine|verified_purchase|\n",
            "+--------------+-----------+-------------+-----------+----+-----------------+\n",
            "|R18VIM840CEFRP|          1|           16|        105|   N|                N|\n",
            "|R14PMAJTY0EAAT|          4|          135|        142|   N|                Y|\n",
            "|R1363VA3TPNLVB|          5|          370|        388|   N|                Y|\n",
            "| RBQZC5A3TSWT5|          5|           11|         22|   N|                Y|\n",
            "| RW00TDPV9U93E|          1|           35|         76|   N|                N|\n",
            "|R3OW0AIVLEDIQ7|          3|           99|        121|   N|                N|\n",
            "|R3DTESO4FUAPKQ|          5|           90|        102|   N|                N|\n",
            "|R18I0XBYWFSR5T|          1|           16|         50|   N|                N|\n",
            "|R1VSQ3QK30VDI0|          5|           23|         35|   N|                N|\n",
            "|R3NEJBF4FXMVUU|          5|           87|         90|   N|                Y|\n",
            "+--------------+-----------+-------------+-----------+----+-----------------+\n",
            "only showing top 10 rows\n",
            "\n"
          ],
          "name": "stdout"
        }
      ]
    },
    {
      "cell_type": "code",
      "metadata": {
        "colab": {
          "base_uri": "https://localhost:8080/"
        },
        "id": "0SMrzkigAJgj",
        "outputId": "4840f4f9-8ed6-4d34-c829-62c646179368"
      },
      "source": [
        "# Step 2: Calculating percentage in 2 steps.\n",
        "percentage_df = top_reviews_df.withColumn('percentage',top_reviews_df['helpful_votes']/top_reviews_df[\"total_votes\"])\n",
        "Percentage_df = percentage_df.withColumn(\"Percentage\",percentage_df[\"percentage\"]*100)\n",
        "Percentage_df.show(10)"
      ],
      "execution_count": 7,
      "outputs": [
        {
          "output_type": "stream",
          "text": [
            "+--------------+-----------+-------------+-----------+----+-----------------+------------------+\n",
            "|     review_id|star_rating|helpful_votes|total_votes|vine|verified_purchase|        Percentage|\n",
            "+--------------+-----------+-------------+-----------+----+-----------------+------------------+\n",
            "|R18VIM840CEFRP|          1|           16|        105|   N|                N|15.238095238095239|\n",
            "|R14PMAJTY0EAAT|          4|          135|        142|   N|                Y| 95.07042253521126|\n",
            "|R1363VA3TPNLVB|          5|          370|        388|   N|                Y| 95.36082474226805|\n",
            "| RBQZC5A3TSWT5|          5|           11|         22|   N|                Y|              50.0|\n",
            "| RW00TDPV9U93E|          1|           35|         76|   N|                N| 46.05263157894737|\n",
            "|R3OW0AIVLEDIQ7|          3|           99|        121|   N|                N| 81.81818181818183|\n",
            "|R3DTESO4FUAPKQ|          5|           90|        102|   N|                N| 88.23529411764706|\n",
            "|R18I0XBYWFSR5T|          1|           16|         50|   N|                N|              32.0|\n",
            "|R1VSQ3QK30VDI0|          5|           23|         35|   N|                N| 65.71428571428571|\n",
            "|R3NEJBF4FXMVUU|          5|           87|         90|   N|                Y| 96.66666666666667|\n",
            "+--------------+-----------+-------------+-----------+----+-----------------+------------------+\n",
            "only showing top 10 rows\n",
            "\n"
          ],
          "name": "stdout"
        }
      ]
    },
    {
      "cell_type": "code",
      "metadata": {
        "colab": {
          "base_uri": "https://localhost:8080/"
        },
        "id": "TKyeYXtnCA56",
        "outputId": "902663a0-398d-4c62-939d-1971bdc0d2fe"
      },
      "source": [
        "# Filtering percentage above 50%\n",
        "high_percent_df = Percentage_df.filter(\"Percentage > 50\")\n",
        "high_percent_df.show()"
      ],
      "execution_count": 8,
      "outputs": [
        {
          "output_type": "stream",
          "text": [
            "+--------------+-----------+-------------+-----------+----+-----------------+-----------------+\n",
            "|     review_id|star_rating|helpful_votes|total_votes|vine|verified_purchase|       Percentage|\n",
            "+--------------+-----------+-------------+-----------+----+-----------------+-----------------+\n",
            "|R14PMAJTY0EAAT|          4|          135|        142|   N|                Y|95.07042253521126|\n",
            "|R1363VA3TPNLVB|          5|          370|        388|   N|                Y|95.36082474226805|\n",
            "|R3OW0AIVLEDIQ7|          3|           99|        121|   N|                N|81.81818181818183|\n",
            "|R3DTESO4FUAPKQ|          5|           90|        102|   N|                N|88.23529411764706|\n",
            "|R1VSQ3QK30VDI0|          5|           23|         35|   N|                N|65.71428571428571|\n",
            "|R3NEJBF4FXMVUU|          5|           87|         90|   N|                Y|96.66666666666667|\n",
            "|R34ZTQTHWRHT5R|          5|           18|         20|   N|                Y|             90.0|\n",
            "|R367X555006ROC|          1|           39|         44|   N|                N|88.63636363636364|\n",
            "| R4NCMAZCRAXHT|          3|           19|         21|   N|                N|90.47619047619048|\n",
            "|R33JIVA97UYKH2|          2|           23|         29|   N|                Y| 79.3103448275862|\n",
            "| RSD6TF0E24D9P|          5|           30|         34|   N|                Y|88.23529411764706|\n",
            "|R2DLFW0GMIFTKP|          5|           53|         58|   N|                Y|91.37931034482759|\n",
            "| RQZ638E0E34Z3|          2|          259|        299|   N|                N|86.62207357859532|\n",
            "|R2RP1D1I036Q6C|          1|           20|         34|   N|                N|58.82352941176471|\n",
            "|R3TJPP6SLHXO41|          1|           16|         27|   N|                Y|59.25925925925925|\n",
            "|R2DK25C3UOICDC|          5|           13|         22|   N|                N|59.09090909090909|\n",
            "|R3LWNR7QFH1P0U|          1|           18|         24|   N|                N|             75.0|\n",
            "|R32X7O6DKBEXM0|          5|           25|         26|   N|                N|96.15384615384616|\n",
            "|R16VVIH03CTRHB|          5|           16|         25|   N|                Y|             64.0|\n",
            "|R2X32J4OCKG97E|          5|           36|         37|   N|                Y| 97.2972972972973|\n",
            "+--------------+-----------+-------------+-----------+----+-----------------+-----------------+\n",
            "only showing top 20 rows\n",
            "\n"
          ],
          "name": "stdout"
        }
      ]
    },
    {
      "cell_type": "code",
      "metadata": {
        "colab": {
          "base_uri": "https://localhost:8080/"
        },
        "id": "Y7Nj3CVSCA0q",
        "outputId": "8371968d-34fd-4488-d4e2-3eea4281a8e7"
      },
      "source": [
        "# Step 3: Filter vine(paid)= Y\n",
        "vine_paid_df = high_percent_df.filter(high_percent_df[\"vine\"] == \"Y\")\n",
        "vine_paid_df.show(10)"
      ],
      "execution_count": 9,
      "outputs": [
        {
          "output_type": "stream",
          "text": [
            "+--------------+-----------+-------------+-----------+----+-----------------+-----------------+\n",
            "|     review_id|star_rating|helpful_votes|total_votes|vine|verified_purchase|       Percentage|\n",
            "+--------------+-----------+-------------+-----------+----+-----------------+-----------------+\n",
            "|R2Z8083V8ZFQVZ|          3|           82|         87|   Y|                N|94.25287356321839|\n",
            "| RK25TAO4GGS5G|          3|           22|         24|   Y|                N|91.66666666666666|\n",
            "|R2SJQG3C6KY0M8|          3|           18|         20|   Y|                N|             90.0|\n",
            "|R12CHC0CB2WASU|          5|           43|         48|   Y|                N|89.58333333333334|\n",
            "|R2RY328TIDXMTE|          2|           50|         61|   Y|                N| 81.9672131147541|\n",
            "|R3K8OQU4PEP8W7|          4|           40|         46|   Y|                N|86.95652173913044|\n",
            "|R1JI1A7JT99538|          3|           28|         40|   Y|                N|             70.0|\n",
            "|R247K3K5SVPJUL|          3|           15|         20|   Y|                N|             75.0|\n",
            "|R27UEUDUYPLXZC|          5|           20|         24|   Y|                N|83.33333333333334|\n",
            "|R2QQDNBYDIEL9F|          5|           35|         41|   Y|                N|85.36585365853658|\n",
            "+--------------+-----------+-------------+-----------+----+-----------------+-----------------+\n",
            "only showing top 10 rows\n",
            "\n"
          ],
          "name": "stdout"
        }
      ]
    },
    {
      "cell_type": "code",
      "metadata": {
        "colab": {
          "base_uri": "https://localhost:8080/"
        },
        "id": "AdTWlQ4PCAvc",
        "outputId": "2ec7d929-70d5-4d13-fc43-c17e84d8030a"
      },
      "source": [
        "# Step 4: Filter vine(unpaid)= N\n",
        "vine_unpaid_df = high_percent_df.filter(high_percent_df[\"vine\"] == \"N\")\n",
        "vine_unpaid_df.show(10)"
      ],
      "execution_count": 10,
      "outputs": [
        {
          "output_type": "stream",
          "text": [
            "+--------------+-----------+-------------+-----------+----+-----------------+-----------------+\n",
            "|     review_id|star_rating|helpful_votes|total_votes|vine|verified_purchase|       Percentage|\n",
            "+--------------+-----------+-------------+-----------+----+-----------------+-----------------+\n",
            "|R14PMAJTY0EAAT|          4|          135|        142|   N|                Y|95.07042253521126|\n",
            "|R1363VA3TPNLVB|          5|          370|        388|   N|                Y|95.36082474226805|\n",
            "|R3OW0AIVLEDIQ7|          3|           99|        121|   N|                N|81.81818181818183|\n",
            "|R3DTESO4FUAPKQ|          5|           90|        102|   N|                N|88.23529411764706|\n",
            "|R1VSQ3QK30VDI0|          5|           23|         35|   N|                N|65.71428571428571|\n",
            "|R3NEJBF4FXMVUU|          5|           87|         90|   N|                Y|96.66666666666667|\n",
            "|R34ZTQTHWRHT5R|          5|           18|         20|   N|                Y|             90.0|\n",
            "|R367X555006ROC|          1|           39|         44|   N|                N|88.63636363636364|\n",
            "| R4NCMAZCRAXHT|          3|           19|         21|   N|                N|90.47619047619048|\n",
            "|R33JIVA97UYKH2|          2|           23|         29|   N|                Y| 79.3103448275862|\n",
            "+--------------+-----------+-------------+-----------+----+-----------------+-----------------+\n",
            "only showing top 10 rows\n",
            "\n"
          ],
          "name": "stdout"
        }
      ]
    },
    {
      "cell_type": "code",
      "metadata": {
        "id": "ApmvwiQ1CAqT"
      },
      "source": [
        "# Step 5:  Total number of reviews, the number of 5-star reviews, and the percentage of 5-star reviews for review(paid)."
      ],
      "execution_count": 11,
      "outputs": []
    },
    {
      "cell_type": "markdown",
      "metadata": {
        "id": "Z-npcKOkCSYn"
      },
      "source": [
        "##Calculations"
      ]
    },
    {
      "cell_type": "markdown",
      "metadata": {
        "id": "0e7_Kef4CSKX"
      },
      "source": [
        "###Paid Reviews"
      ]
    },
    {
      "cell_type": "code",
      "metadata": {
        "colab": {
          "base_uri": "https://localhost:8080/"
        },
        "id": "5gIom2tmCAlK",
        "outputId": "41f4c8af-9c5e-4c9c-de69-5c8567bbf763"
      },
      "source": [
        "from pyspark.sql.functions import count\n",
        "# Total number of reviews\n",
        "total_reviews_count = vine_paid_df.count()\n",
        "total_reviews_count"
      ],
      "execution_count": 13,
      "outputs": [
        {
          "output_type": "execute_result",
          "data": {
            "text/plain": [
              "4743"
            ]
          },
          "metadata": {
            "tags": []
          },
          "execution_count": 13
        }
      ]
    },
    {
      "cell_type": "code",
      "metadata": {
        "colab": {
          "base_uri": "https://localhost:8080/"
        },
        "id": "mttu7O_cCAfx",
        "outputId": "8738ef9e-f58e-4ced-816d-9dcc7fcac79e"
      },
      "source": [
        "# Total number of 5 star paid reviews\n",
        "five_star_paid_df= vine_paid_df.filter(\"star_rating == 5\")\n",
        "five_star_paid_df.show(10)"
      ],
      "execution_count": 14,
      "outputs": [
        {
          "output_type": "stream",
          "text": [
            "+--------------+-----------+-------------+-----------+----+-----------------+-----------------+\n",
            "|     review_id|star_rating|helpful_votes|total_votes|vine|verified_purchase|       Percentage|\n",
            "+--------------+-----------+-------------+-----------+----+-----------------+-----------------+\n",
            "|R12CHC0CB2WASU|          5|           43|         48|   Y|                N|89.58333333333334|\n",
            "|R27UEUDUYPLXZC|          5|           20|         24|   Y|                N|83.33333333333334|\n",
            "|R2QQDNBYDIEL9F|          5|           35|         41|   Y|                N|85.36585365853658|\n",
            "|R3FO8YQ2BKL1RG|          5|           93|         94|   Y|                N|98.93617021276596|\n",
            "|R3DRE8T4NTEWNV|          5|           28|         28|   Y|                N|            100.0|\n",
            "|R2ZD6GIDCKAJNM|          5|          118|        139|   Y|                N|84.89208633093526|\n",
            "| RHGNFBA3HATNJ|          5|          223|        237|   Y|                N|94.09282700421942|\n",
            "|R3IRTK29MZLYTQ|          5|           24|         29|   Y|                N|82.75862068965517|\n",
            "| RK49ETJM70RY1|          5|          244|        259|   Y|                N|94.20849420849422|\n",
            "| RGFM0JV76IWTR|          5|           85|         94|   Y|                N|90.42553191489363|\n",
            "+--------------+-----------+-------------+-----------+----+-----------------+-----------------+\n",
            "only showing top 10 rows\n",
            "\n"
          ],
          "name": "stdout"
        }
      ]
    },
    {
      "cell_type": "code",
      "metadata": {
        "colab": {
          "base_uri": "https://localhost:8080/"
        },
        "id": "49PpKwP1CAai",
        "outputId": "f7e1c5dd-5784-48b8-eaf2-9aea10a9c3ae"
      },
      "source": [
        "# Total Five star paid reviews\n",
        "total_five_star_paid_count = five_star_paid_df.count()\n",
        "total_five_star_paid_count"
      ],
      "execution_count": 15,
      "outputs": [
        {
          "output_type": "execute_result",
          "data": {
            "text/plain": [
              "1604"
            ]
          },
          "metadata": {
            "tags": []
          },
          "execution_count": 15
        }
      ]
    },
    {
      "cell_type": "code",
      "metadata": {
        "colab": {
          "base_uri": "https://localhost:8080/"
        },
        "id": "CE0HjxWeCAVK",
        "outputId": "6291fb75-8ad4-4671-ab1f-93e9fa9ae1bb"
      },
      "source": [
        "# Percentage of 5 star paid reviews\n",
        "paid_five_star_percentage = (total_five_star_paid_count/total_reviews_count)*100\n",
        "round(paid_five_star_percentage, 3)"
      ],
      "execution_count": 16,
      "outputs": [
        {
          "output_type": "execute_result",
          "data": {
            "text/plain": [
              "33.818"
            ]
          },
          "metadata": {
            "tags": []
          },
          "execution_count": 16
        }
      ]
    },
    {
      "cell_type": "markdown",
      "metadata": {
        "id": "zmYns7hDCt_f"
      },
      "source": [
        "###Unpaid Reviews"
      ]
    },
    {
      "cell_type": "code",
      "metadata": {
        "colab": {
          "base_uri": "https://localhost:8080/"
        },
        "id": "D5cHY7fxCANT",
        "outputId": "6d372880-ff22-4c4a-e22f-442cdaec44ba"
      },
      "source": [
        "# Total number of unpaid reviews\n",
        "total_reviews_count_unpaid = vine_unpaid_df.count()\n",
        "total_reviews_count_unpaid"
      ],
      "execution_count": 17,
      "outputs": [
        {
          "output_type": "execute_result",
          "data": {
            "text/plain": [
              "328313"
            ]
          },
          "metadata": {
            "tags": []
          },
          "execution_count": 17
        }
      ]
    },
    {
      "cell_type": "code",
      "metadata": {
        "colab": {
          "base_uri": "https://localhost:8080/"
        },
        "id": "rdPuoG6DCAB-",
        "outputId": "b4ac8a4c-62e7-4a81-8ea5-d06a6739acad"
      },
      "source": [
        "# Total number of 5 star unpaid reviews\n",
        "five_star_unpaid_df= vine_unpaid_df.filter(\"star_rating == 5\")\n",
        "five_star_unpaid_df.show(10)"
      ],
      "execution_count": 18,
      "outputs": [
        {
          "output_type": "stream",
          "text": [
            "+--------------+-----------+-------------+-----------+----+-----------------+-----------------+\n",
            "|     review_id|star_rating|helpful_votes|total_votes|vine|verified_purchase|       Percentage|\n",
            "+--------------+-----------+-------------+-----------+----+-----------------+-----------------+\n",
            "|R1363VA3TPNLVB|          5|          370|        388|   N|                Y|95.36082474226805|\n",
            "|R3DTESO4FUAPKQ|          5|           90|        102|   N|                N|88.23529411764706|\n",
            "|R1VSQ3QK30VDI0|          5|           23|         35|   N|                N|65.71428571428571|\n",
            "|R3NEJBF4FXMVUU|          5|           87|         90|   N|                Y|96.66666666666667|\n",
            "|R34ZTQTHWRHT5R|          5|           18|         20|   N|                Y|             90.0|\n",
            "| RSD6TF0E24D9P|          5|           30|         34|   N|                Y|88.23529411764706|\n",
            "|R2DLFW0GMIFTKP|          5|           53|         58|   N|                Y|91.37931034482759|\n",
            "|R2DK25C3UOICDC|          5|           13|         22|   N|                N|59.09090909090909|\n",
            "|R32X7O6DKBEXM0|          5|           25|         26|   N|                N|96.15384615384616|\n",
            "|R16VVIH03CTRHB|          5|           16|         25|   N|                Y|             64.0|\n",
            "+--------------+-----------+-------------+-----------+----+-----------------+-----------------+\n",
            "only showing top 10 rows\n",
            "\n"
          ],
          "name": "stdout"
        }
      ]
    },
    {
      "cell_type": "code",
      "metadata": {
        "colab": {
          "base_uri": "https://localhost:8080/"
        },
        "id": "15EehYNmC4hD",
        "outputId": "d83289fe-4e2c-43ea-e225-c032e8ff5114"
      },
      "source": [
        "# Total Five star unpaid reviews\n",
        "total_five_star_unpaid_count = five_star_unpaid_df.count()\n",
        "total_five_star_unpaid_count"
      ],
      "execution_count": 19,
      "outputs": [
        {
          "output_type": "execute_result",
          "data": {
            "text/plain": [
              "167855"
            ]
          },
          "metadata": {
            "tags": []
          },
          "execution_count": 19
        }
      ]
    },
    {
      "cell_type": "code",
      "metadata": {
        "colab": {
          "base_uri": "https://localhost:8080/"
        },
        "id": "gs6e9hDBC4br",
        "outputId": "5ad38625-3d9f-4b20-a27f-de24968c1365"
      },
      "source": [
        "# Percentage of 5 star unpaid reviews\n",
        "unpaid_five_star_percentage = (total_five_star_unpaid_count/total_reviews_count_unpaid)*100\n",
        "round(unpaid_five_star_percentage, 3)"
      ],
      "execution_count": 20,
      "outputs": [
        {
          "output_type": "execute_result",
          "data": {
            "text/plain": [
              "51.127"
            ]
          },
          "metadata": {
            "tags": []
          },
          "execution_count": 20
        }
      ]
    },
    {
      "cell_type": "markdown",
      "metadata": {
        "id": "VSua1dH9SIAo"
      },
      "source": [
        "#Summary"
      ]
    },
    {
      "cell_type": "code",
      "metadata": {
        "colab": {
          "base_uri": "https://localhost:8080/"
        },
        "id": "MXwo3g2lRp_S",
        "outputId": "5491ed95-7a6c-4936-e85f-c19fa1a06bbd"
      },
      "source": [
        "print(f\" The total number of paid vine reviewers are {total_reviews_count}\")\n",
        "print(f\" The total number of unpaid vine reviewers are {total_reviews_count_unpaid}\")"
      ],
      "execution_count": 28,
      "outputs": [
        {
          "output_type": "stream",
          "text": [
            " The total number of paid vine reviewers are 4743\n",
            " The total number of unpaid vine reviewers are 328313\n"
          ],
          "name": "stdout"
        }
      ]
    },
    {
      "cell_type": "code",
      "metadata": {
        "colab": {
          "base_uri": "https://localhost:8080/"
        },
        "id": "UCz60hxbRMSY",
        "outputId": "b5ad2793-2af6-47ed-f5b4-bd925d45c6b8"
      },
      "source": [
        "print(f\" The total number of paid vine reviewers with 5 star reviews are {total_five_star_paid_count}\")\n",
        "print(f\" The number of unpaid vine reviewers with 5 star reviews are {total_five_star_unpaid_count}\")"
      ],
      "execution_count": 27,
      "outputs": [
        {
          "output_type": "stream",
          "text": [
            " The total number of paid vine reviewers with 5 star reviews are 1604\n",
            " The number of unpaid vine reviewers with 5 star reviews are 167855\n"
          ],
          "name": "stdout"
        }
      ]
    },
    {
      "cell_type": "code",
      "metadata": {
        "colab": {
          "base_uri": "https://localhost:8080/"
        },
        "id": "HySeZ_u9C4VX",
        "outputId": "553da5b3-8814-4bdb-9e22-11b03ed6e123"
      },
      "source": [
        "print(f\" The percentage of paid vine reviewers with 5 star reviews are {round(paid_five_star_percentage,3)} % \")\n",
        "print(f\" The percentage of unpaid vine reviewers with 5 star reviews are {round(unpaid_five_star_percentage,3)} % \")"
      ],
      "execution_count": 25,
      "outputs": [
        {
          "output_type": "stream",
          "text": [
            " The percentage of paid vine reviewers with 5 star reviews are 33.818 % \n",
            " The percentage of unpaid vine reviewers with 5 star reviews are 51.127 % \n"
          ],
          "name": "stdout"
        }
      ]
    },
    {
      "cell_type": "markdown",
      "metadata": {
        "id": "kaMWGQtNDDoM"
      },
      "source": [
        "## End of Deliverable 2"
      ]
    }
  ]
}